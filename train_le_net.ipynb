{
  "nbformat": 4,
  "nbformat_minor": 0,
  "metadata": {
    "colab": {
      "name": "train_le_net.ipynb",
      "provenance": [],
      "collapsed_sections": [],
      "include_colab_link": true
    },
    "kernelspec": {
      "name": "python3",
      "display_name": "Python 3"
    },
    "accelerator": "GPU"
  },
  "cells": [
    {
      "cell_type": "markdown",
      "metadata": {
        "id": "view-in-github",
        "colab_type": "text"
      },
      "source": [
        "<a href=\"https://colab.research.google.com/github/IgorTFromK/GoogleSpeechCommandClassifier/blob/master/train_le_net.ipynb\" target=\"_parent\"><img src=\"https://colab.research.google.com/assets/colab-badge.svg\" alt=\"Open In Colab\"/></a>"
      ]
    },
    {
      "cell_type": "code",
      "metadata": {
        "id": "IL5L789XY-Qb",
        "colab": {
          "base_uri": "https://localhost:8080/"
        },
        "outputId": "106f439c-b7a6-4cc8-c7e7-5baacdb65c07"
      },
      "source": [
        "import tensorflow as tf\n",
        "import numpy as np\n",
        "print(tf.test.gpu_device_name())\n",
        "\n",
        "\n"
      ],
      "execution_count": 48,
      "outputs": [
        {
          "output_type": "stream",
          "text": [
            "/device:GPU:0\n"
          ],
          "name": "stdout"
        }
      ]
    },
    {
      "cell_type": "code",
      "metadata": {
        "id": "_aCMmamSghqm"
      },
      "source": [
        "x = range(10)"
      ],
      "execution_count": null,
      "outputs": []
    },
    {
      "cell_type": "code",
      "metadata": {
        "id": "eD5c3BeGhewT"
      },
      "source": [
        "def print_val_random():\n",
        "  for val in x:\n",
        "    tmp = np.random.rand() * val\n",
        "    print(tmp)"
      ],
      "execution_count": 50,
      "outputs": []
    },
    {
      "cell_type": "code",
      "metadata": {
        "id": "KDXEOOT_nglt"
      },
      "source": [
        "def print_val_normal():\n",
        "  for val in x: \n",
        "    print(val)\n",
        "    print(\"test\")"
      ],
      "execution_count": 51,
      "outputs": []
    },
    {
      "cell_type": "code",
      "metadata": {
        "colab": {
          "base_uri": "https://localhost:8080/"
        },
        "id": "O2Kl2vBEn2Oq",
        "outputId": "05fe378c-25e9-4154-8a44-0b059e6d3785"
      },
      "source": [
        "print_val_normal()"
      ],
      "execution_count": 52,
      "outputs": [
        {
          "output_type": "stream",
          "text": [
            "0\n",
            "1\n",
            "2\n",
            "3\n",
            "4\n",
            "5\n",
            "6\n",
            "7\n",
            "8\n",
            "9\n"
          ],
          "name": "stdout"
        }
      ]
    },
    {
      "cell_type": "code",
      "metadata": {
        "colab": {
          "base_uri": "https://localhost:8080/"
        },
        "id": "AkWQ0CI7oCQh",
        "outputId": "800e8b62-979a-4ecd-f2c7-294ec9b528ff"
      },
      "source": [
        "print_val_random()"
      ],
      "execution_count": 53,
      "outputs": [
        {
          "output_type": "stream",
          "text": [
            "0.0\n",
            "0.9843625357021488\n",
            "1.4317148157769843\n",
            "1.4081987783636714\n",
            "1.826164703100349\n",
            "4.50464959153285\n",
            "5.7056147455542225\n",
            "2.190603581789528\n",
            "7.20200053404479\n",
            "6.56458193868808\n"
          ],
          "name": "stdout"
        }
      ]
    }
  ]
}