{
  "nbformat": 4,
  "nbformat_minor": 0,
  "metadata": {
    "colab": {
      "name": "train_le_net.ipynb",
      "provenance": [],
      "collapsed_sections": []
    },
    "kernelspec": {
      "name": "python3",
      "display_name": "Python 3"
    },
    "accelerator": "GPU"
  },
  "cells": [
    {
      "cell_type": "code",
      "metadata": {
        "id": "IL5L789XY-Qb",
        "colab": {
          "base_uri": "https://localhost:8080/"
        },
        "outputId": "37921348-4645-4193-825d-2b3dcf419e30"
      },
      "source": [
        "import tensorflow as tf\n",
        "import numpy as np\n",
        "\n",
        "\n"
      ],
      "execution_count": 55,
      "outputs": [
        {
          "output_type": "stream",
          "text": [
            "/device:GPU:0\n"
          ],
          "name": "stdout"
        }
      ]
    },
    {
      "cell_type": "code",
      "metadata": {
        "id": "eD5c3BeGhewT"
      },
      "source": [
        "def print_val_random(x):\n",
        "  for val in x:\n",
        "    print(np.random.rand() * val)"
      ],
      "execution_count": 59,
      "outputs": []
    },
    {
      "cell_type": "code",
      "metadata": {
        "id": "KDXEOOT_nglt"
      },
      "source": [
        "def print_val_normal(x):\n",
        "  for val in x: \n",
        "    print(val)"
      ],
      "execution_count": 60,
      "outputs": []
    },
    {
      "cell_type": "code",
      "metadata": {
        "colab": {
          "base_uri": "https://localhost:8080/"
        },
        "id": "O2Kl2vBEn2Oq",
        "outputId": "7873e800-700f-4a6c-ed72-d9cc585a3c33"
      },
      "source": [
        "print_val_normal(range(10))"
      ],
      "execution_count": 61,
      "outputs": [
        {
          "output_type": "stream",
          "text": [
            "0\n",
            "test\n",
            "1\n",
            "test\n",
            "2\n",
            "test\n",
            "3\n",
            "test\n",
            "4\n",
            "test\n",
            "5\n",
            "test\n",
            "6\n",
            "test\n",
            "7\n",
            "test\n",
            "8\n",
            "test\n",
            "9\n",
            "test\n"
          ],
          "name": "stdout"
        }
      ]
    },
    {
      "cell_type": "code",
      "metadata": {
        "colab": {
          "base_uri": "https://localhost:8080/"
        },
        "id": "AkWQ0CI7oCQh",
        "outputId": "36c637db-3fc2-4bbb-9908-b78d0b39d262"
      },
      "source": [
        "print_val_random(range(10))"
      ],
      "execution_count": 62,
      "outputs": [
        {
          "output_type": "stream",
          "text": [
            "0.0\n",
            "0.27775198478548724\n",
            "0.42784796227707544\n",
            "2.7146825211124046\n",
            "1.7916460413020556\n",
            "4.384420950538795\n",
            "1.344432804572383\n",
            "6.533247484898749\n",
            "0.9654620555928384\n",
            "0.4248668477015004\n"
          ],
          "name": "stdout"
        }
      ]
    }
  ]
}