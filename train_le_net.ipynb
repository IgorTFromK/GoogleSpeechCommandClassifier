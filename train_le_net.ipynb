{
  "nbformat": 4,
  "nbformat_minor": 0,
  "metadata": {
    "colab": {
      "name": "train_le_net.ipynb",
      "provenance": [],
      "collapsed_sections": [],
      "include_colab_link": true
    },
    "kernelspec": {
      "name": "python3",
      "display_name": "Python 3"
    },
    "accelerator": "GPU"
  },
  "cells": [
    {
      "cell_type": "markdown",
      "metadata": {
        "id": "view-in-github",
        "colab_type": "text"
      },
      "source": [
        "<a href=\"https://colab.research.google.com/github/IgorTFromK/GoogleSpeechCommandClassifier/blob/master/train_le_net.ipynb\" target=\"_parent\"><img src=\"https://colab.research.google.com/assets/colab-badge.svg\" alt=\"Open In Colab\"/></a>"
      ]
    },
    {
      "cell_type": "code",
      "metadata": {
        "id": "IL5L789XY-Qb",
        "cellView": "code"
      },
      "source": [
        "import tensorflow as tf\n",
        "import numpy as np\n",
        "import time\n",
        "\n",
        "FILE_DIR_MAIN = \"/content/google_speech_command/\"\n",
        "FILE_DIR_GRIDSEARCH = \"/content/google_speech_command/gridsearch/\"\n",
        "FILE_DIR_TRAIN = FILE_DIR_MAIN + \"train/\"\n",
        "FILE_DIR_TEST = FILE_DIR_MAIN + \"test/\"\n",
        "FILE_DIR_EVAL = FILE_DIR_MAIN + \"eval/\"\n",
        "\n",
        "# Hyperparameter for model optimization\n",
        "NUM_DENSE_LAYER = 1\n",
        "NUM_NEURONS = [64, 128, 256]\n",
        "NUM_MEL_BINS = [64, 96]\n",
        "DROPOUT_RATE = [0.2, 0.3, 0.4]\n",
        "LEARNING_RATE = [0.01, 0.001]\n",
        "TRAININGS_EPOCHS = [32, 64, 128]\n",
        "BATCH_SIZE = [30, 50]\n",
        "\n",
        "\n",
        "class LeNet():\n",
        "  def __init__(self, num_dense_layer, num_hidden_neurons, num_mel_bins, dropout_rate,\n",
        "               learning_rate, input_size):\n",
        "    self.num_dense_layer = num_dense_layer\n",
        "    self.num_hidden_neurons = num_hidden_neurons\n",
        "    self.num_mel_bins = num_mel_bins\n",
        "    self.dropout_rate = dropout_rate\n",
        "    self.learning_rate = learning_rate\n",
        "    self.input_size = input_size\n",
        "\n",
        "  \n",
        "# computes log mel spectrogram\n",
        "def stft_and_log_mel_spectrogram(x, sampling_rate: int, num_mel_spects: int, \n",
        "                                  windowSize: int, hopsize: int):\n",
        "  \n",
        "  stfts = tf.signal.stft(x, frame_length=windowSize, frame_step=hopsize, fft_length=windowSize)\n",
        "  spectrograms = tf.abs(stfts)\n",
        "\n",
        "  # Warp the linear scale spectrograms into the mel-scale.\n",
        "  num_spectrogram_bins = stfts.shape[-1]\n",
        "  lower_edge_hertz, upper_edge_hertz, num_mel_bins = 0, sampling_rate / 2, num_mel_spects\n",
        "  linear_to_mel_weight_matrix = tf.signal.linear_to_mel_weight_matrix(\n",
        "  num_mel_bins, num_spectrogram_bins, sampling_rate, lower_edge_hertz, upper_edge_hertz)\n",
        "  mel_spectrograms = tf.tensordot(spectrograms, linear_to_mel_weight_matrix, 1)\n",
        "  mel_spectrograms.set_shape(spectrograms.shape[:-1].concatenate(linear_to_mel_weight_matrix.shape[-1:]))\n",
        "\n",
        "  # Compute a stabilized log to get log-magnitude mel-scale spectrograms.\n",
        "  log_mel_spectrograms = tf.math.log(mel_spectrograms + 1e-6)\n",
        "\n",
        "  return tf.reshape(log_mel_spectrograms, shape=[-1, log_mel_spectrograms.shape[1], num_mel_spects, 1])\n",
        "\n"
      ],
      "execution_count": 95,
      "outputs": []
    },
    {
      "cell_type": "code",
      "metadata": {
        "id": "16q3LBIe8snz"
      },
      "source": [
        "def create_model():\n",
        "  pass"
      ],
      "execution_count": null,
      "outputs": []
    },
    {
      "cell_type": "code",
      "metadata": {
        "id": "7Z5LEdkm830K"
      },
      "source": [
        "def train_model():\n",
        "  pass"
      ],
      "execution_count": null,
      "outputs": []
    },
    {
      "cell_type": "code",
      "metadata": {
        "id": "-URFSZXd9Ql7"
      },
      "source": [
        "def test_model():\n",
        "  pass"
      ],
      "execution_count": null,
      "outputs": []
    },
    {
      "cell_type": "code",
      "metadata": {
        "id": "XeO0ouPMAuap"
      },
      "source": [
        "def long_op():\n",
        "  for x in range(1000):\n",
        "    time.sleep(2.4)"
      ],
      "execution_count": null,
      "outputs": []
    },
    {
      "cell_type": "code",
      "metadata": {
        "id": "ARgMqfz9A-9z"
      },
      "source": [
        "long_op()"
      ],
      "execution_count": null,
      "outputs": []
    },
    {
      "cell_type": "code",
      "metadata": {
        "id": "eD5c3BeGhewT"
      },
      "source": [
        "def write_file_test(filename:str):\n",
        "  with open(filename, 'w') as writefile:\n",
        "    for x in range(10):\n",
        "      writefile.write(\"Line: {:d}\\n\".format(x))"
      ],
      "execution_count": null,
      "outputs": []
    },
    {
      "cell_type": "code",
      "metadata": {
        "id": "jRjFFDsP5ejH"
      },
      "source": [
        "def read_file_test(filename: str):\n",
        "  with open(filename, 'r') as readfile:\n",
        "    for line in readfile:\n",
        "      print(line)"
      ],
      "execution_count": null,
      "outputs": []
    }
  ]
}