{
  "nbformat": 4,
  "nbformat_minor": 0,
  "metadata": {
    "colab": {
      "name": "train_le_net.ipynb",
      "provenance": [],
      "collapsed_sections": [],
      "include_colab_link": true
    },
    "kernelspec": {
      "name": "python3",
      "display_name": "Python 3"
    },
    "accelerator": "GPU"
  },
  "cells": [
    {
      "cell_type": "markdown",
      "metadata": {
        "id": "view-in-github",
        "colab_type": "text"
      },
      "source": [
        "<a href=\"https://colab.research.google.com/github/IgorTFromK/GoogleSpeechCommandClassifier/blob/master/train_le_net.ipynb\" target=\"_parent\"><img src=\"https://colab.research.google.com/assets/colab-badge.svg\" alt=\"Open In Colab\"/></a>"
      ]
    },
    {
      "cell_type": "code",
      "metadata": {
        "id": "IL5L789XY-Qb"
      },
      "source": [
        "import tensorflow as tf\n",
        "import numpy as np\n",
        "\n",
        "FILE_DIR_MAIN = \"/content/google_speech_command/\"\n",
        "FILE_DIR_GRIDSEARCH = \"/content/google_speech_command/gridsearch/\"\n",
        "\n",
        "\n"
      ],
      "execution_count": 65,
      "outputs": []
    },
    {
      "cell_type": "code",
      "metadata": {
        "id": "eD5c3BeGhewT"
      },
      "source": [
        "def write_file_test(filename: str):\n",
        "  with open(filename, 'w') as writefile:\n",
        "    for x in range(10):\n",
        "      writefile.write(\"Line: {:d}\\n\".format(x))"
      ],
      "execution_count": 69,
      "outputs": []
    },
    {
      "cell_type": "code",
      "metadata": {
        "id": "jRjFFDsP5ejH"
      },
      "source": [
        "def read_file_test(filename: str):\n",
        "  with open(filename, 'r') as readfile:\n",
        "    for line in readfile:\n",
        "      print(line)"
      ],
      "execution_count": 74,
      "outputs": []
    },
    {
      "cell_type": "code",
      "metadata": {
        "id": "AvbK_MBj5Fkr"
      },
      "source": [
        "filename = FILE_DIR_GRIDSEARCH + \"test\"\n",
        "\n",
        "write_file_test(filename=filename)\n",
        "read_file_test(filename= filename)"
      ],
      "execution_count": null,
      "outputs": []
    }
  ]
}