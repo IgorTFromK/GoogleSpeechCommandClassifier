{
  "nbformat": 4,
  "nbformat_minor": 0,
  "metadata": {
    "colab": {
      "name": "train_le_net.ipynb",
      "provenance": [],
      "collapsed_sections": []
    },
    "kernelspec": {
      "name": "python3",
      "display_name": "Python 3"
    },
    "accelerator": "GPU"
  },
  "cells": [
    {
      "cell_type": "code",
      "metadata": {
        "id": "IL5L789XY-Qb",
        "cellView": "code"
      },
      "source": [
        "import tensorflow as tf\n",
        "import numpy as np\n",
        "\n",
        "FILE_DIR_MAIN = \"/content/google_speech_command/\"\n",
        "FILE_DIR_GRIDSEARCH = \"/content/google_speech_command/gridsearch/\"\n",
        "FILE_DIR_TRAIN = FILE_DIR_MAIN + \"train\"\n",
        "FILE_DIR_TEST = FILE_DIR_MAIN + \"test\"\n",
        "FILE_DIR_EVAL = FILE_DIR_MAIN + \"eval\"\n",
        "\n"
      ],
      "execution_count": 77,
      "outputs": []
    },
    {
      "cell_type": "code",
      "metadata": {
        "id": "16q3LBIe8snz"
      },
      "source": [
        "def create_model():\n",
        "  pass"
      ],
      "execution_count": 81,
      "outputs": []
    },
    {
      "cell_type": "code",
      "metadata": {
        "id": "7Z5LEdkm830K"
      },
      "source": [
        "def train_model():\n",
        "  pass"
      ],
      "execution_count": 80,
      "outputs": []
    },
    {
      "cell_type": "code",
      "metadata": {
        "id": "-URFSZXd9Ql7"
      },
      "source": [
        "def test_model():\n",
        "  pass"
      ],
      "execution_count": null,
      "outputs": []
    },
    {
      "cell_type": "code",
      "metadata": {
        "id": "eD5c3BeGhewT"
      },
      "source": [
        "def write_file_test(filename:str):\n",
        "  with open(filename, 'w') as writefile:\n",
        "    for x in range(10):\n",
        "      writefile.write(\"Line: {:d}\\n\".format(x))"
      ],
      "execution_count": 69,
      "outputs": []
    },
    {
      "cell_type": "code",
      "metadata": {
        "id": "jRjFFDsP5ejH"
      },
      "source": [
        "def read_file_test(filename: str):\n",
        "  with open(filename, 'r') as readfile:\n",
        "    for line in readfile:\n",
        "      print(line)"
      ],
      "execution_count": 74,
      "outputs": []
    },
    {
      "cell_type": "code",
      "metadata": {
        "id": "AvbK_MBj5Fkr"
      },
      "source": [
        "filename = FILE_DIR_GRIDSEARCH + \"test\"\n",
        "\n",
        "write_file_test(filename=filename)\n",
        "read_file_test(filename= filename)"
      ],
      "execution_count": null,
      "outputs": []
    }
  ]
}